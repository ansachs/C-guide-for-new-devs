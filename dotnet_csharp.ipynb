{
 "cells": [
  {
   "cell_type": "markdown",
   "metadata": {},
   "source": [
    "Data storage types are incredibly useful when conveying data between different application layers or returning multiple values from functions. The two main types in C# are ```struct``` and ```tuple```\n",
    "\n",
    "C# recently added a struct called a ```record``` . This type will be very useful for create DTO objects within your vertical slices or message channels.\n",
    "\n",
    "for more information see [Tuples](https://learn.microsoft.com/en-us/dotnet/csharp/language-reference/builtin-types/value-tuples)"
   ]
  },
  {
   "cell_type": "code",
   "execution_count": 2,
   "metadata": {
    "dotnet_interactive": {
     "language": "csharp"
    },
    "polyglot_notebook": {
     "kernelName": "csharp"
    }
   },
   "outputs": [
    {
     "name": "stdout",
     "output_type": "stream",
     "text": [
      "(4, 5)\n"
     ]
    }
   ],
   "source": [
    "// the compiler can handle typing\n",
    "var t1 = (445, 3);\n",
    "\n",
    "// manual deconstruction\n",
    "(string name, int count) = (\"robot\", 10);\n",
    "\n",
    "// using tables to return values from a function\n",
    "(int a, int b) GiveMeSomeNumbers() \n",
    "{\n",
    "    return (4, 5);\n",
    "}\n",
    "\n",
    "Console.WriteLine(GiveMeSomeNumbers())"
   ]
  },
  {
   "cell_type": "code",
   "execution_count": 15,
   "metadata": {
    "dotnet_interactive": {
     "language": "csharp"
    },
    "polyglot_notebook": {
     "kernelName": "csharp"
    }
   },
   "outputs": [
    {
     "name": "stdout",
     "output_type": "stream",
     "text": [
      "Person { FirstName = billy, LastName = bob }\n"
     ]
    }
   ],
   "source": [
    "// the normal struct as similar to other languages\n",
    "public struct Coords\n",
    "{\n",
    "    public Coords(double x, double y)\n",
    "    {\n",
    "        X = x;\n",
    "        Y = y;\n",
    "    }\n",
    "\n",
    "    public double X { get; }\n",
    "    public double Y { get; }\n",
    "\n",
    "    public override string ToString() => $\"({X}, {Y})\";\n",
    "}\n",
    "\n",
    "//new syntax for creating simple structs\n",
    "public record Person(string FirstName, string LastName);\n",
    "\n",
    "Person billy =  new(\"billy\", \"jean\");\n",
    "\n",
    "Console.WriteLine(billy);"
   ]
  },
  {
   "cell_type": "markdown",
   "metadata": {},
   "source": [
    "In C#, arguments can be passed to parameters either by value or by reference. Remember that C# types can be either reference types (class) or value types (struct). \n",
    "\n",
    "using the ```ref``` keyword you can force a value type to pass as a reference. Other modifiers are available including: ```in```, ```out```\n",
    "\n",
    "read more about parameters [here](https://learn.microsoft.com/en-us/dotnet/csharp/language-reference/keywords/method-parameters)"
   ]
  },
  {
   "cell_type": "code",
   "execution_count": 10,
   "metadata": {
    "dotnet_interactive": {
     "language": "csharp"
    },
    "polyglot_notebook": {
     "kernelName": "csharp"
    }
   },
   "outputs": [
    {
     "name": "stdout",
     "output_type": "stream",
     "text": [
      "Class field = Changed\n",
      "Struct field = Not Changed\n",
      "Struct by ref field = Changed\n"
     ]
    }
   ],
   "source": [
    "class TheClass\n",
    "{\n",
    "    public string willIChange;\n",
    "}\n",
    "\n",
    "struct TheStruct\n",
    "{\n",
    "    public string willIChange;\n",
    "}\n",
    "\n",
    "static void ClassTaker(TheClass c)\n",
    "{\n",
    "    c.willIChange = \"Changed\";\n",
    "}\n",
    "\n",
    "static void StructTaker(TheStruct s)\n",
    "{\n",
    "    s.willIChange = \"Changed\";\n",
    "}\n",
    "\n",
    "static void StructTakerByRef(ref TheStruct s)\n",
    "{\n",
    "    s.willIChange = \"Changed\";\n",
    "}\n",
    "\n",
    "//arrange\n",
    "\n",
    "TheClass testClass = new TheClass();\n",
    "TheStruct testStruct = new TheStruct();\n",
    "TheStruct testStructByRef = new TheStruct();\n",
    "\n",
    "testClass.willIChange = \"Not Changed\";\n",
    "testStruct.willIChange = \"Not Changed\";\n",
    "testStructByRef.willIChange = \"Not Changed\";\n",
    "\n",
    "//act\n",
    "ClassTaker(testClass);\n",
    "StructTaker(testStruct);\n",
    "StructTakerByRef(ref testStructByRef);\n",
    "\n",
    "//demonstrate\n",
    "Console.WriteLine(\"Class field = {0}\", testClass.willIChange);\n",
    "Console.WriteLine(\"Struct field = {0}\", testStruct.willIChange);\n",
    "Console.WriteLine(\"Struct by ref field = {0}\", testStructByRef.willIChange);\n"
   ]
  }
 ],
 "metadata": {
  "kernelspec": {
   "display_name": ".NET (C#)",
   "language": "C#",
   "name": ".net-csharp"
  },
  "language_info": {
   "name": "polyglot-notebook"
  },
  "polyglot_notebook": {
   "kernelInfo": {
    "defaultKernelName": "csharp",
    "items": [
     {
      "aliases": [],
      "languageName": "csharp",
      "name": "csharp"
     }
    ]
   }
  }
 },
 "nbformat": 4,
 "nbformat_minor": 2
}
